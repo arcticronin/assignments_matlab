{
 "cells": [
  {
   "cell_type": "code",
   "execution_count": 10,
   "id": "ad4780d4-e33d-493e-a708-433140943f2c",
   "metadata": {},
   "outputs": [
    {
     "data": {
      "text/plain": [
       "[0.09, 0.63, 0.52]"
      ]
     },
     "execution_count": 10,
     "metadata": {},
     "output_type": "execute_result"
    }
   ],
   "source": [
    "[round(i/255, 2) for i in (22, 160, 133)]"
   ]
  },
  {
   "cell_type": "code",
   "execution_count": 9,
   "id": "17bb2df3-7067-459e-8c30-5c01707aa4f0",
   "metadata": {},
   "outputs": [
    {
     "data": {
      "text/plain": [
       "[0.9, 0.49, 0.13]"
      ]
     },
     "execution_count": 9,
     "metadata": {},
     "output_type": "execute_result"
    }
   ],
   "source": [
    "[round(i/255, 2) for i in (230, 126, 34)]"
   ]
  },
  {
   "cell_type": "code",
   "execution_count": null,
   "id": "fc41671f-d0b7-4bef-b32c-7c4a27b2ceb6",
   "metadata": {},
   "outputs": [],
   "source": []
  }
 ],
 "metadata": {
  "kernelspec": {
   "display_name": "Python 3 (ipykernel)",
   "language": "python",
   "name": "python3"
  },
  "language_info": {
   "codemirror_mode": {
    "name": "ipython",
    "version": 3
   },
   "file_extension": ".py",
   "mimetype": "text/x-python",
   "name": "python",
   "nbconvert_exporter": "python",
   "pygments_lexer": "ipython3",
   "version": "3.12.0"
  }
 },
 "nbformat": 4,
 "nbformat_minor": 5
}
