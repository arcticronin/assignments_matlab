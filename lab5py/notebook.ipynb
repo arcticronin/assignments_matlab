{
 "cells": [
  {
   "cell_type": "markdown",
   "metadata": {
    "id": "shbM3zJAuPI9"
   },
   "source": [
    "# Data Preprocessing\n",
    "\n",
    "RawData -> (trainloader, testloader)\n",
    "\n",
    "1. Load and normalizing the CIFAR10 training and test datasets using\n",
    "   ``torchvision``\n",
    "2. Define a Convolution Neural Network\n",
    "3. Define a loss function and optimizer\n",
    "4. Train the network on the training data\n",
    "5. Test the network on the test data"
   ]
  },
  {
   "cell_type": "code",
   "execution_count": 1,
   "metadata": {
    "id": "S4ZhoQ3vuPI_"
   },
   "outputs": [],
   "source": [
    "import torch\n",
    "import torchvision\n",
    "import torchvision.transforms as transforms\n",
    "from matplotlib import pyplot as plt\n",
    "import numpy as np\n",
    "from scipy.optimize import curve_fit\n",
    "from collections import Counter \n",
    "import utils\n",
    "import importlib ## debug while producing utils\n",
    "\n",
    "importlib.reload(utils)\n",
    "torch.multiprocessing.set_sharing_strategy('file_system')"
   ]
  },
  {
   "cell_type": "code",
   "execution_count": 2,
   "metadata": {
    "colab": {
     "base_uri": "https://localhost:8080/"
    },
    "executionInfo": {
     "elapsed": 3,
     "status": "ok",
     "timestamp": 1712606114657,
     "user": {
      "displayName": "Mirko Agarla",
      "userId": "02007240672373134675"
     },
     "user_tz": -120
    },
    "id": "5bun1lQdwoqy",
    "outputId": "9d3e642d-6ae6-46ed-9884-4307b0b90e6c"
   },
   "outputs": [
    {
     "name": "stdout",
     "output_type": "stream",
     "text": [
      "CUDA is not available.  Training on CPU ...\n",
      "cpu\n"
     ]
    }
   ],
   "source": [
    "train_on_gpu = torch.cuda.is_available()\n",
    "if not train_on_gpu:\n",
    "    print('CUDA is not available.  Training on CPU ...')\n",
    "else:\n",
    "    print('CUDA is available!  Training on GPU ...')\n",
    "device = torch.device(\"cuda:0\" if train_on_gpu else \"cpu\")\n",
    "print(device)"
   ]
  },
  {
   "cell_type": "markdown",
   "metadata": {
    "id": "dZyKEHctuPI_"
   },
   "source": [
    "1. Load and normalizing the CIFAR10 training and test datasets using\n",
    "   ``torchvision``\n",
    "   \n",
    "The output of [torchvision datasets](https://pytorch.org/vision/stable/datasets.html#datasets) are PILImage images of range [0, 1].\n",
    "We [transform](https://pytorch.org/vision/stable/transforms.html) them to Tensors of normalized range [-1, 1]. Then we call the [dataloader](https://pytorch.org/docs/stable/data.html#torch.utils.data.DataLoader)\n",
    "\n"
   ]
  },
  {
   "cell_type": "code",
   "execution_count": 3,
   "metadata": {},
   "outputs": [],
   "source": [
    "transform = transforms.Compose([\n",
    "    # convert PIL images to Pytorch tensors\n",
    "    transforms.ToTensor(),\n",
    "    #normalize pixel values (here for channel mean=0.5 std=0.5)\n",
    "    transforms.Normalize(mean = [0.485, 0.456, 0.406], std=[0.220, 0.224, 0.225])\n",
    "])"
   ]
  },
  {
   "cell_type": "code",
   "execution_count": 4,
   "metadata": {},
   "outputs": [],
   "source": [
    "# Define the targets airplane (0), automobile (1), and bird (2)\n",
    "# target_classes = [0, 1, 2]"
   ]
  },
  {
   "cell_type": "code",
   "execution_count": 5,
   "metadata": {
    "id": "nV92dK3ruPI_"
   },
   "outputs": [
    {
     "name": "stdout",
     "output_type": "stream",
     "text": [
      "Files already downloaded and verified\n"
     ]
    }
   ],
   "source": [
    "trainset = torchvision.datasets.CIFAR10(root='./data', \n",
    "                                              train=True, \n",
    "                                              download=True, \n",
    "                                              transform=transform)\n",
    "\n",
    "# trainset = utils.FilteredCIFAR10(trainset, target_classes)"
   ]
  },
  {
   "cell_type": "code",
   "execution_count": 6,
   "metadata": {},
   "outputs": [],
   "source": [
    "trainloader = torch.utils.data.DataLoader(trainset,\n",
    "                                         batch_size = 4,\n",
    "                                         shuffle = True,\n",
    "                                         num_workers = 2)"
   ]
  },
  {
   "cell_type": "code",
   "execution_count": 7,
   "metadata": {},
   "outputs": [
    {
     "name": "stdout",
     "output_type": "stream",
     "text": [
      "Files already downloaded and verified\n"
     ]
    }
   ],
   "source": [
    "testset = torchvision.datasets.CIFAR10(root='./data', \n",
    "                                              train=False, \n",
    "                                              download=True, \n",
    "                                              transform=transform)\n",
    "\n",
    "# testset = utils.FilteredCIFAR10(testset, target_classes)\n",
    "\n",
    "testloader = torch.utils.data.DataLoader(testset,\n",
    "                                         batch_size = 4,\n",
    "                                         shuffle = True,\n",
    "                                         num_workers = 2)"
   ]
  },
  {
   "cell_type": "code",
   "execution_count": 8,
   "metadata": {},
   "outputs": [],
   "source": [
    "# classes = [\"plane\", \"car\", \"bird\"]#, \"cat\", \"deer\", \"dog\", \"frog\", \"horse\", \"ship\", \"truck\"]\n",
    "classes = [\"plane\", \"car\", \"bird\", \"cat\", \"deer\", \"dog\", \"frog\", \"horse\", \"ship\", \"truck\"]"
   ]
  },
  {
   "cell_type": "markdown",
   "metadata": {
    "id": "5nB4FDsouPJA"
   },
   "source": [
    "Let us [show](https://matplotlib.org/stable/api/_as_gen/matplotlib.pyplot.imshow.html#matplotlib-pyplot-imshow) some of the training images\n"
   ]
  },
  {
   "cell_type": "code",
   "execution_count": 9,
   "metadata": {
    "id": "KVCb2s_QuPJA"
   },
   "outputs": [
    {
     "name": "stdout",
     "output_type": "stream",
     "text": [
      "Train loader:\n",
      "12500\n",
      "{'frog': 5000, 'truck': 5000, 'deer': 5000, 'car': 5000, 'bird': 5000, 'horse': 5000, 'ship': 5000, 'cat': 5000, 'dog': 5000, 'plane': 5000}\n",
      "torch.Size([4, 3, 32, 32])\n",
      "dog cat plane frog\n",
      "\n",
      "Test loader:\n",
      "2500\n",
      "{'cat': 1000, 'ship': 1000, 'plane': 1000, 'frog': 1000, 'car': 1000, 'truck': 1000, 'dog': 1000, 'horse': 1000, 'deer': 1000, 'bird': 1000}\n"
     ]
    },
    {
     "data": {
      "image/png": "[encoded data removed]",
      "text/plain": [
       "<Figure size 640x480 with 1 Axes>"
      ]
     },
     "metadata": {},
     "output_type": "display_data"
    }
   ],
   "source": [
    "# Function to display an image\n",
    "def imshow(image):\n",
    "    mean=torch.tensor([0.485, 0.456, 0.406])\n",
    "    std=torch.tensor([0.229, 0.224, 0.225])\n",
    "\n",
    "    # Unnormalize the image channels to [0, 1]\n",
    "    image = image.mul(std.unsqueeze(1).unsqueeze(2))  # More efficient element-wise multiplication\n",
    "    image = image.add(mean.unsqueeze(1).unsqueeze(2))  # Efficient element-wise addition\n",
    "\n",
    "    image= image.clamp(0, 1)\n",
    "\n",
    "    # Convert the tensor to a NumPy array\n",
    "    npimg = image.numpy()\n",
    "    # Plot the image using matplotlib\n",
    "    plt.imshow(np.transpose(npimg, (1, 2, 0)))  # Transpose for correct display\n",
    "\n",
    "# ------------------ Train Loader Section ------------------\n",
    "\n",
    "print(\"Train loader:\")\n",
    "\n",
    "# Count the frequency of each class in the training set\n",
    "stat = dict(Counter(trainset.targets))\n",
    "\n",
    "# Create a new dictionary with class names as keys\n",
    "new_stat = stat.copy()\n",
    "for k in stat.keys():\n",
    "    new_stat[classes[k]] = stat[k]\n",
    "    del new_stat[k]\n",
    "\n",
    "# Print the length of the train loader (number of batches)\n",
    "print(len(trainloader))\n",
    "\n",
    "# Print the class distribution in the training set\n",
    "print(new_stat)\n",
    "\n",
    "# Get a batch of random training images and their labels\n",
    "dataiter = iter(trainloader)\n",
    "images, labels = next(dataiter)\n",
    "\n",
    "# Print the shape of the image tensor (batch_size, channels, height, width)\n",
    "print(images.shape)\n",
    "\n",
    "# Display the images using the imshow function\n",
    "imshow(torchvision.utils.make_grid(images))\n",
    "\n",
    "# Print the labels of the images\n",
    "print(' '.join('%s' % classes[labels[j]] for j in range(4)))  # Print labels for 4 images\n",
    "\n",
    "# ------------------ Test Loader Section ------------------\n",
    "\n",
    "print(\"\\nTest loader:\")\n",
    "\n",
    "\n",
    "\n",
    "# Similar steps for the test loader\n",
    "stat = dict(Counter(testset.targets))\n",
    "new_stat = stat.copy()\n",
    "for k in stat.keys():\n",
    "    new_stat[classes[k]] = stat[k]\n",
    "    del new_stat[k]\n",
    "\n",
    "print(len(testloader))\n",
    "print(new_stat)\n"
   ]
  },
  {
   "cell_type": "markdown",
   "metadata": {
    "id": "FWjfTuThuPJA"
   },
   "source": [
    "# Model: Convolution Neural Network\n",
    "[network layers](https://pytorch.org/docs/stable/nn.html#convolution-layers)"
   ]
  },
  {
   "cell_type": "code",
   "execution_count": null,
   "metadata": {
    "id": "8HW6XRf7uPJB"
   },
   "outputs": [],
   "source": [
    "import torch.nn.functional as F\n",
    "import torch.nn as nn\n",
    "\n",
    "class Net(nn.Module):\n",
    "    def __init__(self):\n",
    "        super(Net, self).__init__() \n",
    "        self.conv1 = nn.Conv2d(3, 6, 5)  # First convolutional layer\n",
    "        self.pool = nn.MaxPool2d(2, 2)  # Max pooling layer\n",
    "        self.conv2 = nn.Conv2d(6, 16, 5)  # Second convolutional layer\n",
    "        # Fully connected layers\n",
    "        self.fc1 = nn.Linear(16 * 5 * 5, 120) \n",
    "        self.fc2 = nn.Linear(120, 84)\n",
    "        self.fc3 = nn.Linear(84, 10) ## set nim ogf classes now\n",
    "\n",
    "    def forward(self, x):\n",
    "        \"\"\"Define the forward pass of the network\"\"\"\n",
    "        x = self.pool(F.relu(self.conv1(x)))\n",
    "        x = self.pool(F.relu(self.conv2(x)))\n",
    "\n",
    "        x = x.view(x.shape[0], -1)  # Flatten the output from convolutional layers\n",
    "        x = F.relu(self.fc1(x))\n",
    "        x = F.relu(self.fc2(x))\n",
    "        x = self.fc3(x)\n",
    "        return x\n",
    "       "
   ]
  },
  {
   "cell_type": "code",
   "execution_count": 10,
   "metadata": {},
   "outputs": [],
   "source": [
    "import torch.nn.functional as F\n",
    "import torch.nn as nn\n",
    "\n",
    "class Net(nn.Module):\n",
    "    def __init__(self):\n",
    "        super(Net, self).__init__()\n",
    "        # Convolutional layers\n",
    "        self.conv1 = nn.Conv2d(3, 32, kernel_size=3, padding=1)\n",
    "        self.conv2 = nn.Conv2d(32, 32, kernel_size=3, padding=1)\n",
    "        self.conv3 = nn.Conv2d(32, 64, kernel_size=3, padding=1)\n",
    "        self.conv4 = nn.Conv2d(64, 64, kernel_size=3, padding=1)\n",
    "        \n",
    "        # Pooling layer\n",
    "        self.pool = nn.MaxPool2d(2, 2)\n",
    "        \n",
    "        # Dropout layers\n",
    "        self.dropout1 = nn.Dropout(0.25)\n",
    "        self.dropout2 = nn.Dropout(0.25)\n",
    "        self.dropout3 = nn.Dropout(0.5)\n",
    "        \n",
    "        # Fully connected layers\n",
    "        self.fc1 = nn.Linear(64 * 8 * 8, 512)  # 64 filters, 8x8 feature maps size after pooling\n",
    "        self.fc2 = nn.Linear(512, 10)  # 10 classes for CIFAR-10\n",
    "\n",
    "    def forward(self, x):\n",
    "        # Forward pass through convolutional layers with ReLU and pooling\n",
    "        x = F.relu(self.conv1(x))\n",
    "        x = F.relu(self.conv2(x))\n",
    "        x = self.pool(x)\n",
    "        x = self.dropout1(x)\n",
    "\n",
    "        x = F.relu(self.conv3(x))\n",
    "        x = F.relu(self.conv4(x))\n",
    "        x = self.pool(x)\n",
    "        x = self.dropout2(x)\n",
    "\n",
    "        # Flattening the layer\n",
    "        x = x.view(-1, 64 * 8 * 8)  # Flatten the tensor for the fully connected layer\n",
    "\n",
    "        # Fully connected layer with ReLU and dropout\n",
    "        x = F.relu(self.fc1(x))\n",
    "        x = self.dropout3(x)\n",
    "        x = self.fc2(x)  # Output layer, no activation function here\n",
    "        \n",
    "        return F.log_softmax(x, dim=1)  # Applying softmax to get probabilities"
   ]
  },
  {
   "cell_type": "code",
   "execution_count": 11,
   "metadata": {},
   "outputs": [],
   "source": [
    "# Typically, define the loss and optimizer outside of your network class\n",
    "net = Net()\n",
    "criterion = nn.CrossEntropyLoss()\n",
    "optimizer = torch.optim.SGD(net.parameters(), lr=0.005)"
   ]
  },
  {
   "cell_type": "markdown",
   "metadata": {
    "id": "O2P0Zlbl2Stb",
    "jp-MarkdownHeadingCollapsed": true
   },
   "source": [
    "## Receptive Field of the network (does not work with dropout layers so donmt run with them)"
   ]
  },
  {
   "cell_type": "code",
   "execution_count": null,
   "metadata": {
    "id": "tsX3Q7q32SgF"
   },
   "outputs": [],
   "source": [
    "# This line attempts to clone a Git repository using a shell command.\n",
    "#!git clone https://github.com/Fangyh09/pytorch-receptive-field.git\n",
    "\n",
    "# This line would move the downloaded directory\n",
    "#!mv -v pytorch-receptive-field/torch_receptive_field ./\n",
    "\n",
    "# Import the 'receptive_field' function from the 'torch_receptive_field' library.\n",
    "from torch_receptive_field import receptive_field\n",
    "\n",
    "# Calculate the receptive field of the network 'net' for an input image size of\n",
    "# 3 channels (RGB) and 32x32 pixels. The 'receptive_field' function would analyze the network architecture and input size to determine\n",
    "# the receptive field size for each layer and the overall network.\n",
    "receptive_field(net, input_size=(3, 32, 32))"
   ]
  },
  {
   "cell_type": "markdown",
   "metadata": {
    "id": "hmA4DkACuPJB"
   },
   "source": [
    "3. Define a loss function and optimizer\n",
    "\n",
    "Let's use a Classification [Cross-Entropy](https://pytorch.org/docs/stable/nn.html#loss-functions) loss and [SGD](https://pytorch.org/docs/stable/generated/torch.optim.SGD.html#torch.optim.SGD) with momentum.\n",
    "\n"
   ]
  },
  {
   "cell_type": "markdown",
   "metadata": {
    "id": "bmu1-dvfuPJB"
   },
   "source": [
    "4. Train the network on the training data\n",
    "\n",
    "\n",
    "We simply have to loop over our data iterator, and feed the inputs to the\n",
    "network and optimize.\n",
    "\n"
   ]
  },
  {
   "cell_type": "markdown",
   "metadata": {},
   "source": [
    "# Training Phase"
   ]
  },
  {
   "cell_type": "code",
   "execution_count": null,
   "metadata": {
    "id": "928O4nWYuPJC"
   },
   "outputs": [
    {
     "name": "stdout",
     "output_type": "stream",
     "text": [
      "[1,  1000] loss: 2.246\n",
      "[1,  2000] loss: 2.060\n",
      "[1,  3000] loss: 1.924\n",
      "[1,  4000] loss: 1.781\n",
      "[1,  5000] loss: 1.690\n",
      "[1,  6000] loss: 1.626\n",
      "[1,  7000] loss: 1.573\n",
      "[1,  8000] loss: 1.521\n",
      "[1,  9000] loss: 1.497\n",
      "[1, 10000] loss: 1.461\n",
      "[1, 11000] loss: 1.401\n",
      "[1, 12000] loss: 1.382\n",
      "[2,  1000] loss: 1.365\n",
      "[2,  2000] loss: 1.284\n",
      "[2,  3000] loss: 1.287\n",
      "[2,  4000] loss: 1.269\n",
      "[2,  5000] loss: 1.228\n",
      "[2,  6000] loss: 1.219\n",
      "[2,  7000] loss: 1.215\n",
      "[2,  8000] loss: 1.176\n",
      "[2,  9000] loss: 1.187\n",
      "[2, 10000] loss: 1.176\n",
      "[2, 11000] loss: 1.144\n",
      "[2, 12000] loss: 1.094\n",
      "[3,  1000] loss: 1.058\n",
      "[3,  2000] loss: 1.048\n",
      "[3,  3000] loss: 1.063\n",
      "[3,  4000] loss: 1.021\n",
      "[3,  5000] loss: 1.044\n",
      "[3,  6000] loss: 1.017\n",
      "[3,  7000] loss: 1.010\n",
      "[3,  8000] loss: 0.981\n",
      "[3,  9000] loss: 0.985\n",
      "[3, 10000] loss: 0.953\n",
      "[3, 11000] loss: 0.964\n",
      "[3, 12000] loss: 0.956\n",
      "[4,  1000] loss: 0.892\n",
      "[4,  2000] loss: 0.878\n",
      "[4,  3000] loss: 0.889\n",
      "[4,  4000] loss: 0.882\n",
      "[4,  5000] loss: 0.907\n"
     ]
    }
   ],
   "source": [
    "running_losses = []\n",
    "for epoch in range(10):\n",
    "    running_loss = 0.0\n",
    "    for i, data in enumerate(trainloader):\n",
    "        inputs, labels = data\n",
    "\n",
    "        # Send data to the device (e.g., GPU)\n",
    "        inputs = inputs.to(device)\n",
    "        labels = labels.to(device)\n",
    "\n",
    "        # Zero the parameter gradients\n",
    "        optimizer.zero_grad()\n",
    "\n",
    "        # Forward pass\n",
    "        \n",
    "        outputs = net(inputs)\n",
    "\n",
    "        # Calculate loss\n",
    "        loss = criterion(outputs, labels)\n",
    "\n",
    "        # Backward pass and optimize\n",
    "        loss.backward()\n",
    "        optimizer.step()\n",
    "\n",
    "        # Accumulate the loss\n",
    "        running_loss += loss.item()\n",
    "\n",
    "        # Every 1000 batches, log the average loss\n",
    "        if i > 0 and i % 1000 == 0:\n",
    "            average_loss = running_loss / 1000\n",
    "            print('[%d, %5d] loss: %.3f' % (epoch + 1, i, average_loss))\n",
    "            running_losses.append(average_loss)\n",
    "            running_loss = 0\n",
    "\n",
    "print('Finished Training')\n"
   ]
  },
  {
   "cell_type": "markdown",
   "metadata": {
    "id": "bzpMI9aUuPJC"
   },
   "source": [
    "5. Test the network on the test data\n",
    "\n",
    "\n",
    "We have trained the network for 2 passes over the training dataset.\n",
    "But we need to check if the network has learnt anything at all.\n",
    "\n",
    "We will check this by predicting the class label that the neural network\n",
    "outputs, and checking it against the ground-truth. If the prediction is\n",
    "correct, we add the sample to the list of correct predictions.\n",
    "\n",
    "\n"
   ]
  },
  {
   "cell_type": "code",
   "execution_count": null,
   "metadata": {
    "id": "e_JnNda2uPJD"
   },
   "outputs": [],
   "source": [
    "# Initialize variables to track accuracy\n",
    "correct = 0\n",
    "total = 0\n",
    "\n",
    "# Disable gradient calculation for better performance during evaluation\n",
    "with torch.no_grad():\n",
    "    # Loop over the test loader\n",
    "    for data in testloader:\n",
    "        # Get the image and label from the current batch\n",
    "        image, label = data\n",
    "\n",
    "        # Move the image data to the specified device (CPU or GPU)\n",
    "        image = image.to(device)\n",
    "\n",
    "        # Get the network's prediction for the image\n",
    "        output = net(image)\n",
    "        # smax = torch.nn.Softmax(dim=1)(output.cpu())\n",
    "        \n",
    "        # Find the class with the highest probability\n",
    "        _, predicted = torch.max(output.cpu(), 1)  # Equivalent to pred = torch.argmax(output.cpu(), dim=1)\n",
    "\n",
    "        # Update total number of test images\n",
    "        total += label.size(0)  # label.size(0) gives the batch size\n",
    "\n",
    "        # Count correct predictions\n",
    "        correct += (predicted == label).sum().item()  # Count true positives\n",
    "\n",
    "# Calculate and print accuracy\n",
    "print('Accuracy of the network on the 10000 test images: %d %%' % (\n",
    "    100 * correct / total))"
   ]
  },
  {
   "cell_type": "markdown",
   "metadata": {
    "id": "O1Y4HMBOxCE6"
   },
   "source": [
    "**!HOMEWORK!**"
   ]
  },
  {
   "cell_type": "markdown",
   "metadata": {
    "id": "mZW_s0fsB1Xi"
   },
   "source": [
    "This homework assignment asks you to performs 2 tasks:\n",
    "\n",
    "1. Analyze Results with Different Network Parameters:\n",
    "\n",
    "This involves training the network with various configurations of network parameters and analyzing the impact on performance. Here's a step-by-step approach:\n",
    "\n",
    "**Choose Network Parameters:**\n",
    "\n",
    "Select the network parameters you want to experiment with. Common choices include:\n",
    "\n",
    "Number of layers: You can try increasing or decreasing the number of layers in your chosen network architecture (e.g., convolutional layers in a CNN).\n",
    "Learning rate: Experiment with different learning rates (e.g., 0.01, 0.001, 0.0001) to find a balance between fast learning and stability.\n",
    "Other parameters: Depending on your network architecture, there might be additional options like:\n",
    "Number of filters in convolutional layers: This affects the complexity of features extracted from the data.\n",
    "Activation functions: Experiment with different activation functions (e.g., ReLU, Leaky ReLU) to introduce non-linearity.\n",
    "Optimizer parameters: Some optimizers (e.g., Adam) have hyperparameters you can adjust.\n",
    "Train the network for a different number of epochs.\n",
    "\n",
    "**Analyze Results:**\n",
    "\n",
    "Compare the performance of the network across different parameter configurations:\n",
    "\n",
    "How accuracy/loss changes with different parameter values.\n",
    "2. Show and Explain Errors of the Best Network:\n",
    "\n",
    "Once you identify the **best performing network configuration** (based on metrics like accuracy or loss), analyze its errors.\n",
    "For example you can generate a confusion matrix. This matrix visualizes how often the network predicted each class correctly or incorrectly.\n",
    "\n",
    "Useful resources:\n",
    "*   [network layers](https://pytorch.org/docs/stable/nn.html#convolution-layers)\n",
    "*   [activation function](https://pytorch.org/docs/stable/nn.html#convolution-layers)\n",
    "*   [loss functions](https://pytorch.org/docs/stable/nn.html#convolution-layers)\n",
    "\n",
    "\n",
    "\n"
   ]
  },
  {
   "cell_type": "code",
   "execution_count": null,
   "metadata": {},
   "outputs": [],
   "source": [
    "def evaluate_model(model, data_loader, criterion):\n",
    "    model.eval()  # Set the model to evaluation mode\n",
    "    total_loss = 0\n",
    "    correct = 0\n",
    "    total = 0\n",
    "\n",
    "    with torch.no_grad():\n",
    "        for data in data_loader:\n",
    "            inputs, labels = data\n",
    "            outputs = model(inputs)\n",
    "            loss = criterion(outputs, labels)\n",
    "            total_loss += loss.item()\n",
    "            _, predicted = torch.max(outputs.data, 1)\n",
    "            total += labels.size(0)\n",
    "            correct += (predicted == labels).sum().item()\n",
    "\n",
    "    avg_loss = total_loss / len(data_loader)\n",
    "    accuracy = correct / total\n",
    "    # print('Test Loss: {:.4f}, Accuracy: {:.4f}'.format(avg_loss, accuracy))\n",
    "    return(avg_loss, accuracy)\n",
    "\n",
    "# Assuming test_loader is defined and contains your test dataset\n",
    "evaluate_model(net, testloader, criterion)"
   ]
  },
  {
   "cell_type": "code",
   "execution_count": null,
   "metadata": {},
   "outputs": [],
   "source": [
    "dataiter = iter(testloader)\n",
    "images, labels = next(dataiter)\n",
    "index = 0\n",
    "# Display the images using the imshow function\n",
    "imshow(torchvision.utils.make_grid(images[index]))\n",
    "print(f\" predicted class: {classes[np.argmax(net.forward(images[index]).detach().numpy())]}\")"
   ]
  },
  {
   "cell_type": "code",
   "execution_count": null,
   "metadata": {},
   "outputs": [],
   "source": [
    "x = utils.get_all_predictions(net, testloader).argmax(axis = 1).numpy()"
   ]
  },
  {
   "cell_type": "code",
   "execution_count": null,
   "metadata": {},
   "outputs": [],
   "source": [
    "unique, counts = np.unique(x, return_counts=True)"
   ]
  },
  {
   "cell_type": "code",
   "execution_count": null,
   "metadata": {},
   "outputs": [],
   "source": [
    "counts"
   ]
  },
  {
   "cell_type": "code",
   "execution_count": null,
   "metadata": {},
   "outputs": [],
   "source": [
    "cm = confusion_matrix(, x) "
   ]
  },
  {
   "cell_type": "code",
   "execution_count": null,
   "metadata": {},
   "outputs": [],
   "source": [
    "# Visualization using matplotlib and seaborn\n",
    "    plt.figure(figsize=(13, 10))\n",
    "    sns.heatmap(cm, annot=True, fmt=\"d\", cmap='viridis', \n",
    "                xticklabels=name_of_classes, yticklabels=name_of_classes)"
   ]
  },
  {
   "cell_type": "code",
   "execution_count": null,
   "metadata": {},
   "outputs": [],
   "source": [
    "utils.print_confusion_matrix(net, testset, classes)"
   ]
  },
  {
   "cell_type": "code",
   "execution_count": null,
   "metadata": {},
   "outputs": [],
   "source": []
  }
 ],
 "metadata": {
  "colab": {
   "provenance": []
  },
  "kernelspec": {
   "display_name": "Python 3 (ipykernel)",
   "language": "python",
   "name": "python3"
  },
  "language_info": {
   "codemirror_mode": {
    "name": "ipython",
    "version": 3
   },
   "file_extension": ".py",
   "mimetype": "text/x-python",
   "name": "python",
   "nbconvert_exporter": "python",
   "pygments_lexer": "ipython3",
   "version": "3.12.0"
  }
 },
 "nbformat": 4,
 "nbformat_minor": 4
}
