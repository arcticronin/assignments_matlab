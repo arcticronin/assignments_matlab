{
 "cells": [
  {
   "cell_type": "code",
   "execution_count": 14,
   "id": "6176b8cb-6bd8-4499-b8ac-8f665eb5bdd4",
   "metadata": {},
   "outputs": [],
   "source": [
    "import pandas as pd\n",
    "import numpy as np\n",
    "import seaborn as sns\n",
    "from matplotlib import pyplot as plt"
   ]
  },
  {
   "cell_type": "code",
   "execution_count": 15,
   "id": "83b6305a-1e8f-4319-b1c0-1b5af73ff873",
   "metadata": {},
   "outputs": [],
   "source": [
    "raw_data = pd.read_csv('runs.csv')"
   ]
  },
  {
   "cell_type": "code",
   "execution_count": 16,
   "id": "84bb339c-0c1f-456c-93d5-5808e71a003f",
   "metadata": {},
   "outputs": [
    {
     "data": {
      "text/plain": [
       "Index(['Start Time', 'Duration', 'Run ID', 'Name', 'Source Type',\n",
       "       'Source Name', 'User', 'Status', 'description', 'epochs', 'model_type',\n",
       "       'PLCC', 'SROCC', 'loss', 'test_PLCC', 'test_SROCC', 'test_loss',\n",
       "       'validation_PLCC', 'validation_SROCC', 'validation_loss'],\n",
       "      dtype='object')"
      ]
     },
     "execution_count": 16,
     "metadata": {},
     "output_type": "execute_result"
    }
   ],
   "source": [
    "raw_data.columns"
   ]
  },
  {
   "cell_type": "code",
   "execution_count": 22,
   "id": "9a1e8a8c-4410-4eee-9a2d-e6fd46d360e8",
   "metadata": {},
   "outputs": [],
   "source": [
    "data = raw_data[['model_type','description',  'epochs', 'Duration','test_PLCC', 'test_SROCC', 'test_loss',\n",
    "       ]]\n"
   ]
  },
  {
   "cell_type": "code",
   "execution_count": 23,
   "id": "bfc6042e-6c00-4d1d-8b3d-ca498d0dd544",
   "metadata": {},
   "outputs": [
    {
     "data": {
      "text/html": [
       "<div>\n",
       "<style scoped>\n",
       "    .dataframe tbody tr th:only-of-type {\n",
       "        vertical-align: middle;\n",
       "    }\n",
       "\n",
       "    .dataframe tbody tr th {\n",
       "        vertical-align: top;\n",
       "    }\n",
       "\n",
       "    .dataframe thead th {\n",
       "        text-align: right;\n",
       "    }\n",
       "</style>\n",
       "<table border=\"1\" class=\"dataframe\">\n",
       "  <thead>\n",
       "    <tr style=\"text-align: right;\">\n",
       "      <th></th>\n",
       "      <th>model_type</th>\n",
       "      <th>description</th>\n",
       "      <th>epochs</th>\n",
       "      <th>Duration</th>\n",
       "      <th>test_PLCC</th>\n",
       "      <th>test_SROCC</th>\n",
       "      <th>test_loss</th>\n",
       "    </tr>\n",
       "  </thead>\n",
       "  <tbody>\n",
       "    <tr>\n",
       "      <th>0</th>\n",
       "      <td>VisionTransformer</td>\n",
       "      <td>visual_transformer_freezed</td>\n",
       "      <td>5</td>\n",
       "      <td>8.5h</td>\n",
       "      <td>0.69</td>\n",
       "      <td>0.64</td>\n",
       "      <td>0.07</td>\n",
       "    </tr>\n",
       "    <tr>\n",
       "      <th>1</th>\n",
       "      <td>MobileNetV2</td>\n",
       "      <td>mobilenetv2_completely_unfreezed</td>\n",
       "      <td>5</td>\n",
       "      <td>1.0h</td>\n",
       "      <td>0.85</td>\n",
       "      <td>0.83</td>\n",
       "      <td>0.05</td>\n",
       "    </tr>\n",
       "    <tr>\n",
       "      <th>2</th>\n",
       "      <td>MobileNetV2</td>\n",
       "      <td>mobilenetv2_freezed_untill_classifier</td>\n",
       "      <td>5</td>\n",
       "      <td>32.0min</td>\n",
       "      <td>0.67</td>\n",
       "      <td>0.61</td>\n",
       "      <td>0.08</td>\n",
       "    </tr>\n",
       "    <tr>\n",
       "      <th>3</th>\n",
       "      <td>AlexNet</td>\n",
       "      <td>alexnet_freezed_till_classifier</td>\n",
       "      <td>10</td>\n",
       "      <td>25.3min</td>\n",
       "      <td>0.65</td>\n",
       "      <td>0.60</td>\n",
       "      <td>0.08</td>\n",
       "    </tr>\n",
       "  </tbody>\n",
       "</table>\n",
       "</div>"
      ],
      "text/plain": [
       "          model_type                            description  epochs Duration  \\\n",
       "0  VisionTransformer             visual_transformer_freezed       5     8.5h   \n",
       "1        MobileNetV2       mobilenetv2_completely_unfreezed       5     1.0h   \n",
       "2        MobileNetV2  mobilenetv2_freezed_untill_classifier       5  32.0min   \n",
       "3            AlexNet        alexnet_freezed_till_classifier      10  25.3min   \n",
       "\n",
       "   test_PLCC  test_SROCC  test_loss  \n",
       "0       0.69        0.64       0.07  \n",
       "1       0.85        0.83       0.05  \n",
       "2       0.67        0.61       0.08  \n",
       "3       0.65        0.60       0.08  "
      ]
     },
     "execution_count": 23,
     "metadata": {},
     "output_type": "execute_result"
    }
   ],
   "source": [
    "data.round(2)"
   ]
  },
  {
   "cell_type": "code",
   "execution_count": null,
   "id": "b95736e3-8e61-4341-8774-06a52515bc3e",
   "metadata": {},
   "outputs": [],
   "source": []
  },
  {
   "cell_type": "code",
   "execution_count": null,
   "id": "9d737044-a8ac-45c2-8bf5-03e0588e48b5",
   "metadata": {},
   "outputs": [],
   "source": []
  }
 ],
 "metadata": {
  "kernelspec": {
   "display_name": "Python 3 (ipykernel)",
   "language": "python",
   "name": "python3"
  },
  "language_info": {
   "codemirror_mode": {
    "name": "ipython",
    "version": 3
   },
   "file_extension": ".py",
   "mimetype": "text/x-python",
   "name": "python",
   "nbconvert_exporter": "python",
   "pygments_lexer": "ipython3",
   "version": "3.12.0"
  }
 },
 "nbformat": 4,
 "nbformat_minor": 5
}
